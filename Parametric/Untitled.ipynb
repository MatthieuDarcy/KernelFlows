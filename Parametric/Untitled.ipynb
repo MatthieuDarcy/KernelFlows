{
 "cells": [
  {
   "cell_type": "code",
   "execution_count": 5,
   "id": "a7f099ed",
   "metadata": {},
   "outputs": [],
   "source": [
    "import autograd.numpy as np\n",
    "from autograd import value_and_grad \n",
    "from KF_parametric_autograd import GPRegressor"
   ]
  },
  {
   "cell_type": "code",
   "execution_count": 2,
   "id": "e179a508",
   "metadata": {},
   "outputs": [],
   "source": [
    "from kernel_functions_autograd import kernel_RBF"
   ]
  },
  {
   "cell_type": "code",
   "execution_count": 3,
   "id": "041363e8",
   "metadata": {},
   "outputs": [],
   "source": [
    "    noise_level = 0.2\n",
    "\n",
    "\n",
    "    def f(x, noise_level=noise_level):\n",
    "        return np.sin(5 * x[0]) * (1 - np.tanh(x[0] ** 2))\\\n",
    "               + np.random.randn() * noise_level\n",
    "    \n",
    "    \n",
    "    x = np.linspace(-2, 2, 400).reshape(-1, 1)\n",
    "    fx = np.array([f(x_i, noise_level=0.0) for x_i in x])\n",
    "    \n",
    "    X = np.random.uniform(-2, 2, size = (200,1))\n",
    "    Y = np.array([f(x_i, noise_level=noise_level) for x_i in X])"
   ]
  },
  {
   "cell_type": "code",
   "execution_count": 6,
   "id": "d802147b",
   "metadata": {},
   "outputs": [],
   "source": [
    "    sigma = np.array([1.0])\n",
    "    GP =  GPRegressor(kernel_RBF, sigma)"
   ]
  },
  {
   "cell_type": "code",
   "execution_count": 10,
   "id": "ca3bba8e",
   "metadata": {},
   "outputs": [
    {
     "name": "stdout",
     "output_type": "stream",
     "text": [
      "1231246.5481495857\n",
      "24461488990.8689\n"
     ]
    }
   ],
   "source": [
    "K = GP.kernel_function(X, X, sigma)\n",
    "alpha = np.linalg.solve(K + 1e-10*np.eye(K.shape[0]), Y)\n",
    "    \n",
    "sample = np.arange(100)\n",
    "    \n",
    "    \n",
    "K_sample =GP.kernel_function(X[sample], X[sample], sigma)\n",
    "beta = np.linalg.solve(K_sample + 1e-10*np.eye(K_sample.shape[0]), Y[sample])\n",
    "    \n",
    "    \n",
    "K_cross = GP.kernel_function(X, X[sample], sigma)\n",
    "    \n",
    "print(alpha.T@K_cross@beta)\n",
    "    \n",
    "print(Y[sample]@np.linalg.solve(K_sample + 1e-10*np.eye(K_sample.shape[0]), Y[sample]))"
   ]
  },
  {
   "cell_type": "code",
   "execution_count": 30,
   "id": "c4ec815f",
   "metadata": {},
   "outputs": [
    {
     "data": {
      "text/plain": [
       "array([[ 8.90736779e-02,  3.11950047e-03,  3.06084777e-03, ...,\n",
       "         6.83660273e-03,  2.65437401e-03,  1.03239249e-03],\n",
       "       [ 3.21975772e-03,  6.10003779e-02, -2.02755608e-02, ...,\n",
       "        -2.20913472e-03,  5.17249865e-05,  5.46602011e-02],\n",
       "       [ 2.42058304e+00,  2.62006226e-01,  2.88560098e-01, ...,\n",
       "         1.12566774e+00,  2.58443981e+00,  2.34570086e-01],\n",
       "       ...,\n",
       "       [ 6.65205170e-03, -1.97079057e-03,  6.49466932e-03, ...,\n",
       "         7.01069088e-02, -2.53510867e-03, -3.03779542e-03],\n",
       "       [ 2.94068467e-03, -9.31178393e-04, -1.67783265e-03, ...,\n",
       "        -2.53322827e-03,  3.40524125e-01,  1.37037830e-04],\n",
       "       [ 3.31540117e-04,  5.99957226e-02, -9.94728348e-03, ...,\n",
       "        -3.03186847e-03,  1.36401798e-04,  6.24198914e-02]])"
      ]
     },
     "execution_count": 30,
     "metadata": {},
     "output_type": "execute_result"
    }
   ],
   "source": [
    "K_inv = np.linalg.inv(K + 1e-10*np.eye(K.shape[0]))\n",
    "\n",
    "K_inv@K"
   ]
  },
  {
   "cell_type": "code",
   "execution_count": 23,
   "id": "395ce764",
   "metadata": {},
   "outputs": [
    {
     "data": {
      "text/plain": [
       "False"
      ]
     },
     "execution_count": 23,
     "metadata": {},
     "output_type": "execute_result"
    }
   ],
   "source": [
    "np.allclose(res, np.eye(200))"
   ]
  },
  {
   "cell_type": "code",
   "execution_count": 25,
   "id": "13b17857",
   "metadata": {},
   "outputs": [],
   "source": [
    "a = np.array([[1., 2.], [3., 4.]])\n",
    "a_inv = np.linalg.inv(a)"
   ]
  },
  {
   "cell_type": "code",
   "execution_count": 26,
   "id": "94d841f2",
   "metadata": {},
   "outputs": [
    {
     "data": {
      "text/plain": [
       "array([[1.00000000e+00, 1.11022302e-16],\n",
       "       [0.00000000e+00, 1.00000000e+00]])"
      ]
     },
     "execution_count": 26,
     "metadata": {},
     "output_type": "execute_result"
    }
   ],
   "source": [
    "a@a_inv"
   ]
  },
  {
   "cell_type": "code",
   "execution_count": 32,
   "id": "b8af799c",
   "metadata": {},
   "outputs": [
    {
     "data": {
      "text/plain": [
       "array([[ 7.54278731e-02, -2.68109749e-03,  2.97684974e-03, ...,\n",
       "         1.51138100e-03,  1.53892241e-02, -1.95389214e-03],\n",
       "       [-2.68109890e-03,  6.01128644e-02, -1.35780004e-02, ...,\n",
       "        -3.59267003e-03,  1.32116527e-03,  5.55970184e-02],\n",
       "       [ 2.97685358e-03, -1.35780062e-02,  7.63157544e-02, ...,\n",
       "         3.30181292e-03,  1.15246389e-03, -4.00699769e-03],\n",
       "       ...,\n",
       "       [ 1.51138200e-03, -3.59267180e-03,  3.30175677e-03, ...,\n",
       "         6.64685291e-02,  3.12883221e-03, -2.15005065e-03],\n",
       "       [ 1.53892487e-02,  1.32116647e-03,  1.15246053e-03, ...,\n",
       "         3.12886546e-03,  3.25877914e-01, -1.35473370e-04],\n",
       "       [-1.95389741e-03,  5.55970865e-02, -4.00698910e-03, ...,\n",
       "        -2.15001552e-03, -1.35473793e-04,  5.76258970e-02]])"
      ]
     },
     "execution_count": 32,
     "metadata": {},
     "output_type": "execute_result"
    }
   ],
   "source": [
    "np.linalg.solve(K + 1e-8*np.eye(K.shape[0]), K)"
   ]
  },
  {
   "cell_type": "code",
   "execution_count": 33,
   "id": "0bc58d2a",
   "metadata": {},
   "outputs": [],
   "source": [
    "K = kernel_RBF(X,X, sigma)"
   ]
  },
  {
   "cell_type": "code",
   "execution_count": 35,
   "id": "e04e640b",
   "metadata": {},
   "outputs": [
    {
     "data": {
      "text/plain": [
       "array([[ 7.54278731e-02, -2.68109749e-03,  2.97684974e-03, ...,\n",
       "         1.51138100e-03,  1.53892241e-02, -1.95389214e-03],\n",
       "       [-2.68109890e-03,  6.01128644e-02, -1.35780004e-02, ...,\n",
       "        -3.59267003e-03,  1.32116527e-03,  5.55970184e-02],\n",
       "       [ 2.97685358e-03, -1.35780062e-02,  7.63157544e-02, ...,\n",
       "         3.30181292e-03,  1.15246389e-03, -4.00699769e-03],\n",
       "       ...,\n",
       "       [ 1.51138200e-03, -3.59267180e-03,  3.30175677e-03, ...,\n",
       "         6.64685291e-02,  3.12883221e-03, -2.15005065e-03],\n",
       "       [ 1.53892487e-02,  1.32116647e-03,  1.15246053e-03, ...,\n",
       "         3.12886546e-03,  3.25877914e-01, -1.35473370e-04],\n",
       "       [-1.95389741e-03,  5.55970865e-02, -4.00698910e-03, ...,\n",
       "        -2.15001552e-03, -1.35473793e-04,  5.76258970e-02]])"
      ]
     },
     "execution_count": 35,
     "metadata": {},
     "output_type": "execute_result"
    }
   ],
   "source": [
    "np.linalg.solve(K + 1e-8*np.eye(K.shape[0]), K)"
   ]
  },
  {
   "cell_type": "code",
   "execution_count": 36,
   "id": "09300a4f",
   "metadata": {},
   "outputs": [],
   "source": [
    "K_inv = np.linalg.inv(K + 1e-8*np.eye(K.shape[0]))"
   ]
  },
  {
   "cell_type": "code",
   "execution_count": 37,
   "id": "9f8d79d0",
   "metadata": {},
   "outputs": [
    {
     "data": {
      "text/plain": [
       "array([[ 7.54278595e-02, -2.67762498e-03,  2.97831620e-03, ...,\n",
       "         1.51144777e-03,  1.53892452e-02, -1.95074212e-03],\n",
       "       [-2.67778383e-03,  6.01325008e-02, -1.35705402e-02, ...,\n",
       "        -3.59092579e-03,  1.32510809e-03,  5.56142693e-02],\n",
       "       [-5.51578796e-03, -1.33354439e-02,  7.58069631e-02, ...,\n",
       "         2.85061752e-05, -8.97727664e-03, -3.89091647e-03],\n",
       "       ...,\n",
       "       [ 1.51139267e-03, -3.59263074e-03,  3.30182902e-03, ...,\n",
       "         6.64686099e-02,  3.12885949e-03, -2.15002443e-03],\n",
       "       [ 1.53891604e-02,  1.32116583e-03,  1.15245456e-03, ...,\n",
       "         3.12884892e-03,  3.25877871e-01, -1.35475546e-04],\n",
       "       [-1.95389599e-03,  5.55969903e-02, -4.00694771e-03, ...,\n",
       "        -2.15001908e-03, -1.35475292e-04,  5.76258302e-02]])"
      ]
     },
     "execution_count": 37,
     "metadata": {},
     "output_type": "execute_result"
    }
   ],
   "source": [
    "K_inv@K"
   ]
  },
  {
   "cell_type": "code",
   "execution_count": null,
   "id": "d9ecbd1b",
   "metadata": {},
   "outputs": [],
   "source": []
  }
 ],
 "metadata": {
  "kernelspec": {
   "display_name": "Python 3 (ipykernel)",
   "language": "python",
   "name": "python3"
  },
  "language_info": {
   "codemirror_mode": {
    "name": "ipython",
    "version": 3
   },
   "file_extension": ".py",
   "mimetype": "text/x-python",
   "name": "python",
   "nbconvert_exporter": "python",
   "pygments_lexer": "ipython3",
   "version": "3.9.7"
  }
 },
 "nbformat": 4,
 "nbformat_minor": 5
}
