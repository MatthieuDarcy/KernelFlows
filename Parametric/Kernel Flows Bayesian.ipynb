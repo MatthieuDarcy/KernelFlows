{
 "cells": [
  {
   "cell_type": "code",
   "execution_count": 1,
   "id": "59109139",
   "metadata": {},
   "outputs": [],
   "source": [
    "import autograd.numpy as np\n",
    "import matplotlib.pyplot as plt\n",
    "\n",
    "from KF_parametric_autograd import GPRegressor\n",
    "from sklearn.metrics import mean_squared_error as mse"
   ]
  },
  {
   "cell_type": "markdown",
   "id": "31a8d474",
   "metadata": {},
   "source": [
    "# The regression problem\n",
    "\n",
    "\n",
    "Suppose we have noisy observations of an unknwon function\n",
    "\n",
    "$$ y_i = f(x_i) + \\varepsilon_i$$\n",
    "wehere $\\varepsilon_i$ is i.i.d noise. We wish to recover the underlying function $f$. \n",
    "\n",
    "In Kernel Methods and Gaussian processes regression, the solution to the above problem has the representer representation\n",
    "\n",
    "$$ f^* = k(\\cdot, X)(K(X,X) + \\lambda I)^{-1}Y$$\n",
    "\n",
    "where $X = (x_i)_{i=1}, Y = (y_i)_{i=1}$ are the vectors of observations and $k$ is a kernel function parametrized by some parameters $\\theta$.\n",
    "\n",
    "# Choosing the best kernel\n",
    "\n",
    "The above solution relies on a choice of kernel family $k$ and a choice of parameters $\\theta$. Here we focus on the problem of given a kernel family, choose the optimal parameter $\\theta$.\n",
    "\n",
    "The paper \"Kernel Flows: from learning kernels from data into the abyss\" by Owhadi and Yoo (https://arxiv.org/abs/1808.04475) proposes to minimize a cross validation loss by sampling a subset $(X_s, Y_s)$ from the full data set $(X, Y)$ (of roughly half the size). We then minimize the following (random) loss\n",
    "\n",
    "$$ \\rho(\\theta) = \\frac{|| u - u_s||^2}{|| u||^2 } = 1 - \\frac{Y_s^T K(X_s,X_s)^{-1}Y^s}{Y^T K(X,X)^{-1}Y}.$$\n",
    "\n",
    "The function $ u$ is the optimal function which sees the full data set $(X,Y)$ and $u_s$ is the optimal function which sees the sample $(X_s, Y_s)$. The norm is the RKHS induced by the kernel. For more details, see the following talk https://www.youtube.com/watch?v=ZndevdR4omw.\n",
    "\n",
    "# Implementation\n",
    "\n",
    "## Data set "
   ]
  },
  {
   "cell_type": "code",
   "execution_count": 70,
   "id": "6384221e",
   "metadata": {},
   "outputs": [],
   "source": [
    "# A relatively complicated 2d function\n",
    "\n",
    "def f(x):\n",
    "    return np.sin(5 * x[1]) * (1 - np.tanh(x[0] ** 2)) + x[0]**3*np.exp(-x[1])"
   ]
  },
  {
   "cell_type": "code",
   "execution_count": 71,
   "id": "df77f8b1",
   "metadata": {},
   "outputs": [],
   "source": [
    "np.random.seed(2019)\n",
    "x = np.random.uniform(-2, 2, size = (100,2))\n",
    "\n",
    "noise_level = 0.5\n",
    "np.random.seed(2020)\n",
    "noise = np.random.normal(size = (100))*noise_level\n",
    "\n",
    "fx = np.array([f(x_i) for x_i in x])\n",
    "y = np.array([f(x_i)+ noise[i] for i, x_i in enumerate(x)])"
   ]
  },
  {
   "cell_type": "code",
   "execution_count": 72,
   "id": "a0150e6e",
   "metadata": {},
   "outputs": [],
   "source": [
    "from sklearn.model_selection import train_test_split\n",
    "\n",
    "X, X_test, Y, Y_test = train_test_split(x,y, test_size = 0.2, random_state=2022, shuffle = True) "
   ]
  },
  {
   "cell_type": "markdown",
   "id": "b8797357",
   "metadata": {},
   "source": [
    "## Default GP regressor"
   ]
  },
  {
   "cell_type": "code",
   "execution_count": 73,
   "id": "ef9d63bf",
   "metadata": {},
   "outputs": [],
   "source": [
    "# Import the RBF kernel\n",
    "from kernel_functions_autograd import kernel_RBF"
   ]
  },
  {
   "cell_type": "code",
   "execution_count": 77,
   "id": "a330f849",
   "metadata": {},
   "outputs": [
    {
     "name": "stdout",
     "output_type": "stream",
     "text": [
      "The mean squared error on the test set is 26.163\n"
     ]
    }
   ],
   "source": [
    "sigma = np.array([2.0])\n",
    "GP =  GPRegressor(kernel_RBF, sigma)\n",
    "\n",
    "GP.fit(X,Y)\n",
    "\n",
    "pred = GP.predict(X_test)\n",
    "\n",
    "print(\"The mean squared error on the test set is\", np.round(mse(pred, Y_test), 3))"
   ]
  },
  {
   "cell_type": "markdown",
   "id": "e9811db4",
   "metadata": {},
   "source": [
    "# Kernel Optimized via Bayesian optimization\n",
    "\n",
    "Here we present an an alternative to gradien descent based on Bayesian optimization. This algorithm does not need to compute derivative and is less prone to local minima. Hence in some cases it can be more efficient than gradient descent. A potential danger is that sometimes minimizing the loss can yield degenerate kernels. "
   ]
  },
  {
   "cell_type": "code",
   "execution_count": 78,
   "id": "0dbd0013",
   "metadata": {},
   "outputs": [],
   "source": [
    "from skopt import gp_minimize\n",
    "\n",
    "from sklearn.model_selection import KFold"
   ]
  },
  {
   "cell_type": "code",
   "execution_count": 79,
   "id": "e0b8ecf4",
   "metadata": {},
   "outputs": [],
   "source": [
    "# Define the objective function to be minimzed \n",
    "\n",
    "def objective(parameters):\n",
    "    return GP.rho_average(parameters, X, Y, n = 5)\n",
    "\n",
    "# Define a search space \n",
    "from skopt.space import Real\n",
    "space  = [Real(10**-5, 10**1, name='sigma')]\n",
    "\n",
    "# Define the GP (here the initial choice of paramters is less important)\n",
    "sigma = np.array([1.0])\n",
    "GP =  GPRegressor(kernel_RBF, sigma)"
   ]
  },
  {
   "cell_type": "code",
   "execution_count": 80,
   "id": "77988777",
   "metadata": {},
   "outputs": [
    {
     "name": "stderr",
     "output_type": "stream",
     "text": [
      "C:\\Users\\User\\anaconda3\\lib\\site-packages\\skopt\\optimizer\\optimizer.py:449: UserWarning: The objective has been evaluated at this point before.\n",
      "  warnings.warn(\"The objective has been evaluated \"\n"
     ]
    }
   ],
   "source": [
    "res = gp_minimize(objective,                  # the function to minimize\n",
    "                  space,      # the search space\n",
    "                  acq_func=\"EI\",      # the acquisition function\n",
    "                  n_calls=100,         # the number of evaluations of f\n",
    "                  n_random_starts=10,  # the number of random initialization points\n",
    "                  random_state=1234,  # the random seed\n",
    "                  verbose = False,    # set to True for longer runs\n",
    "                 )   "
   ]
  },
  {
   "cell_type": "code",
   "execution_count": 81,
   "id": "9a272894",
   "metadata": {},
   "outputs": [
    {
     "data": {
      "image/png": "[encoded data removed]",
      "text/plain": [
       "<Figure size 432x288 with 1 Axes>"
      ]
     },
     "metadata": {
      "needs_background": "light"
     },
     "output_type": "display_data"
    }
   ],
   "source": [
    "from skopt.plots import plot_convergence\n",
    "plot_convergence(res);"
   ]
  },
  {
   "cell_type": "code",
   "execution_count": 82,
   "id": "4a720889",
   "metadata": {},
   "outputs": [
    {
     "data": {
      "text/plain": [
       "0.14797848831016683"
      ]
     },
     "execution_count": 82,
     "metadata": {},
     "output_type": "execute_result"
    }
   ],
   "source": [
    "opt_param = res.x\n",
    "objective(opt_param)"
   ]
  },
  {
   "cell_type": "code",
   "execution_count": 83,
   "id": "90c21ba3",
   "metadata": {},
   "outputs": [
    {
     "name": "stdout",
     "output_type": "stream",
     "text": [
      "The optimized parameters are  [7.21959588]\n",
      "The mean squared error on the test set is 16.127\n"
     ]
    }
   ],
   "source": [
    "opt_param = res.x\n",
    "\n",
    "GP.fit(X, Y, parameters=opt_param)\n",
    "\n",
    "pred = GP.predict(X_test)\n",
    "print(\"The optimized parameters are \", GP.parameters)\n",
    "print(\"The mean squared error on the test set is\", np.round(mse(pred, Y_test), 3))"
   ]
  }
 ],
 "metadata": {
  "kernelspec": {
   "display_name": "Python 3 (ipykernel)",
   "language": "python",
   "name": "python3"
  },
  "language_info": {
   "codemirror_mode": {
    "name": "ipython",
    "version": 3
   },
   "file_extension": ".py",
   "mimetype": "text/x-python",
   "name": "python",
   "nbconvert_exporter": "python",
   "pygments_lexer": "ipython3",
   "version": "3.9.7"
  }
 },
 "nbformat": 4,
 "nbformat_minor": 5
}
